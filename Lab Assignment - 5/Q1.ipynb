{
 "cells": [
  {
   "cell_type": "code",
   "execution_count": 11,
   "id": "715c4de6",
   "metadata": {},
   "outputs": [
    {
     "name": "stdout",
     "output_type": "stream",
     "text": [
      "       Pregnancies     Glucose  BloodPressure  SkinThickness     Insulin  \\\n",
      "count   768.000000  768.000000     768.000000     768.000000  768.000000   \n",
      "mean      3.845052  120.894531      69.105469      20.536458   79.799479   \n",
      "std       3.369578   31.972618      19.355807      15.952218  115.244002   \n",
      "min       0.000000    0.000000       0.000000       0.000000    0.000000   \n",
      "25%       1.000000   99.000000      62.000000       0.000000    0.000000   \n",
      "50%       3.000000  117.000000      72.000000      23.000000   30.500000   \n",
      "75%       6.000000  140.250000      80.000000      32.000000  127.250000   \n",
      "max      17.000000  199.000000     122.000000      99.000000  846.000000   \n",
      "\n",
      "              BMI  DiabetesPedigreeFunction         Age     Outcome  \n",
      "count  768.000000                768.000000  768.000000  768.000000  \n",
      "mean    31.992578                  0.471876   33.240885    0.348958  \n",
      "std      7.884160                  0.331329   11.760232    0.476951  \n",
      "min      0.000000                  0.078000   21.000000    0.000000  \n",
      "25%     27.300000                  0.243750   24.000000    0.000000  \n",
      "50%     32.000000                  0.372500   29.000000    0.000000  \n",
      "75%     36.600000                  0.626250   41.000000    1.000000  \n",
      "max     67.100000                  2.420000   81.000000    1.000000  \n"
     ]
    }
   ],
   "source": [
    "# load and summarize the dataset\n",
    "from pandas import read_csv\n",
    "import pandas as pd\n",
    "\n",
    "dataset = read_csv(r\"C:\\Users\\jonat\\Downloads\\diabetes.csv\") # load the dataset\n",
    "print(dataset.describe()) # summarize the dataset"
   ]
  },
  {
   "cell_type": "code",
   "execution_count": 13,
   "id": "f7f0086b",
   "metadata": {},
   "outputs": [
    {
     "name": "stdout",
     "output_type": "stream",
     "text": [
      "Pregnancies                 0\n",
      "Glucose                     0\n",
      "BloodPressure               0\n",
      "SkinThickness               0\n",
      "Insulin                     0\n",
      "BMI                         0\n",
      "DiabetesPedigreeFunction    0\n",
      "Age                         0\n",
      "Outcome                     0\n",
      "dtype: int64\n"
     ]
    }
   ],
   "source": [
    "# manually impute missing values with numpy\n",
    "dataset.fillna(dataset.mean(), inplace=True) # fill missing values with mean column values\n",
    "print(dataset.isnull().sum()) # count the number of NaN values in each column"
   ]
  },
  {
   "cell_type": "code",
   "execution_count": 14,
   "id": "7b292e61",
   "metadata": {},
   "outputs": [],
   "source": [
    "X = dataset.drop(['Outcome'],axis=1)\n",
    "y = dataset['Outcome']"
   ]
  },
  {
   "cell_type": "code",
   "execution_count": 26,
   "id": "ef787e7a",
   "metadata": {},
   "outputs": [
    {
     "name": "stdout",
     "output_type": "stream",
     "text": [
      "[0.266234   0.21241969 0.12509523 0.11113316 0.09723747 0.08414672\n",
      " 0.05529564 0.04843809]\n"
     ]
    }
   ],
   "source": [
    "from sklearn.model_selection import train_test_split\n",
    "X_train, X_test, y_train, y_test = train_test_split(X, y, test_size=0.4, random_state=4)\n",
    "\n",
    "from sklearn.preprocessing import StandardScaler\n",
    "\n",
    "sc = StandardScaler()\n",
    "X_train = sc.fit_transform(X_train)\n",
    "X_test = sc.transform(X_test)\n",
    "\n",
    "from sklearn.decomposition import PCA\n",
    "\n",
    "pca = PCA()\n",
    "X_train = pca.fit_transform(X_train)\n",
    "X_test = pca.transform(X_test)\n",
    "\n",
    "explained_variance = pca.explained_variance_ratio_\n",
    "print(explained_variance)"
   ]
  },
  {
   "cell_type": "code",
   "execution_count": 27,
   "id": "74115c62",
   "metadata": {},
   "outputs": [
    {
     "data": {
      "text/plain": [
       "array([[-0.53224752,  0.52159731,  0.01405558, ...,  0.13290918,\n",
       "         0.10751639, -0.63534288],\n",
       "       [ 0.40634089, -1.37240421, -0.15446998, ..., -0.11464925,\n",
       "        -0.20637241, -0.15237076],\n",
       "       [ 0.8288658 , -0.44795314,  0.45658754, ...,  0.54148178,\n",
       "        -0.61462522,  0.48636606],\n",
       "       ...,\n",
       "       [ 0.36553935,  0.20032868,  2.79048591, ...,  0.62602982,\n",
       "         0.43732536, -0.93148916],\n",
       "       [-0.18821146,  0.45351093,  0.79218444, ...,  0.62396054,\n",
       "         0.43757666,  0.82743388],\n",
       "       [-0.51248156,  0.08719948, -0.873256  , ...,  0.53529999,\n",
       "        -0.48024229, -0.07778219]])"
      ]
     },
     "execution_count": 27,
     "metadata": {},
     "output_type": "execute_result"
    }
   ],
   "source": [
    "from imblearn.over_sampling import SMOTE\n",
    "sm = SMOTE(random_state=25)\n",
    "X_res, y_res = sm.fit_resample(X_train, y_train)\n",
    "X_res\n",
    "#Now the Dataset is Balanced"
   ]
  },
  {
   "cell_type": "code",
   "execution_count": 28,
   "id": "14fd1ae3",
   "metadata": {},
   "outputs": [
    {
     "name": "stdout",
     "output_type": "stream",
     "text": [
      "[[144  62]\n",
      " [ 19  83]]\n",
      "              precision    recall  f1-score   support\n",
      "\n",
      "           0       0.88      0.70      0.78       206\n",
      "           1       0.57      0.81      0.67       102\n",
      "\n",
      "    accuracy                           0.74       308\n",
      "   macro avg       0.73      0.76      0.73       308\n",
      "weighted avg       0.78      0.74      0.74       308\n",
      "\n"
     ]
    }
   ],
   "source": [
    "from sklearn.metrics import classification_report\n",
    "from sklearn.metrics import confusion_matrix\n",
    "from sklearn import svm\n",
    "clf = svm.SVC(kernel='linear') # Linear Kernel\n",
    "clf.fit(X_res, y_res)\n",
    "y_pred = clf.predict(X_test)\n",
    "print(confusion_matrix(y_test, y_pred))\n",
    "print(classification_report(y_test, y_pred))"
   ]
  },
  {
   "cell_type": "code",
   "execution_count": 29,
   "id": "9fb4e33d",
   "metadata": {},
   "outputs": [
    {
     "data": {
      "image/png": "[encoded data removed]",
      "text/plain": [
       "<Figure size 432x288 with 1 Axes>"
      ]
     },
     "metadata": {
      "needs_background": "light"
     },
     "output_type": "display_data"
    }
   ],
   "source": [
    "import matplotlib.pyplot as plt\n",
    "plt.scatter(X_res[:,1], y_res)\n",
    "plt.title(\"Scatter Plot\")\n",
    "plt.xlabel('Classifiers')\n",
    "plt.ylabel('Outcome')\n",
    "plt.show()"
   ]
  }
 ],
 "metadata": {
  "kernelspec": {
   "display_name": "Python 3",
   "language": "python",
   "name": "python3"
  },
  "language_info": {
   "codemirror_mode": {
    "name": "ipython",
    "version": 3
   },
   "file_extension": ".py",
   "mimetype": "text/x-python",
   "name": "python",
   "nbconvert_exporter": "python",
   "pygments_lexer": "ipython3",
   "version": "3.9.6"
  }
 },
 "nbformat": 4,
 "nbformat_minor": 5
}
